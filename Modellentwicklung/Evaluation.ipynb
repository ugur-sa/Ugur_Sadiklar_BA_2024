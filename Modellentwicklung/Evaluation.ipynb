{
 "cells": [
  {
   "cell_type": "markdown",
   "metadata": {},
   "source": [
    "Abhängigkeiten"
   ]
  },
  {
   "cell_type": "code",
   "execution_count": null,
   "metadata": {},
   "outputs": [],
   "source": [
    "%pip install torch\n",
    "%pip install transformers\n",
    "%pip install -U scikit-learn"
   ]
  },
  {
   "cell_type": "markdown",
   "metadata": {},
   "source": [
    "Laden des Modells"
   ]
  },
  {
   "cell_type": "code",
   "execution_count": null,
   "metadata": {
    "ExecuteTime": {
     "end_time": "2024-01-12T13:30:55.436764800Z",
     "start_time": "2024-01-12T13:30:48.439765500Z"
    }
   },
   "outputs": [],
   "source": [
    "from transformers import BertConfig, BertForSequenceClassification, AutoTokenizer\n",
    "import torch\n",
    "\n",
    "# Laden der Konfiguration\n",
    "# Ersetze den Pfad durch den lokalen Pfad zum config Verzeichnis\n",
    "config_path = 'models\\model_epoch3_lr2e-05_bs16_scheduler_20240109-020252\\epoch_3'\n",
    "config = BertConfig.from_pretrained(config_path, output_hidden_states=False)\n",
    "\n",
    "# Laden des Tokenizers\n",
    "model_name = 'ahmedrachid/FinancialBERT'\n",
    "tokenizer = AutoTokenizer.from_pretrained(model_name)\n",
    "\n",
    "# Erstellen des Modells\n",
    "model = BertForSequenceClassification(config)\n",
    "\n",
    "# Laden der Gewichte\n",
    "model_weights = 'models\\model_epoch3_lr2e-05_bs16_scheduler_20240109-020252\\epoch_3\\pytorch_model.bin'  # Replace with your model weights file\n",
    "model.load_state_dict(torch.load(model_weights))\n",
    "\n",
    "# Setze das Modell in den Evaluationsmodus\n",
    "model.eval()"
   ]
  },
  {
   "cell_type": "markdown",
   "metadata": {},
   "source": [
    "Laden der Testdaten"
   ]
  },
  {
   "cell_type": "code",
   "execution_count": 2,
   "metadata": {},
   "outputs": [
    {
     "name": "stdout",
     "output_type": "stream",
     "text": [
      "Train data percentage: 72\n",
      "Test data percentage: 15\n",
      "Validation data percentage: 13\n"
     ]
    }
   ],
   "source": [
    "import sqlite3\n",
    "from sklearn.model_selection import train_test_split\n",
    "\n",
    "# Verbindung zur Datenbank herstellen\n",
    "conn = sqlite3.connect('data/sentiment.db')\n",
    "cursor = conn.cursor()\n",
    "\n",
    "# Abrufen der Daten aus der Tabelle \"sentences\"\n",
    "cursor.execute(\"SELECT sentence_text, final_sentiment FROM sentences WHERE final_sentiment != 'manual'\")\n",
    "data = cursor.fetchall()\n",
    "\n",
    "# Schließen der Datenbankverbindung\n",
    "conn.close()\n",
    "\n",
    "# Konvertiere die Daten in ein Dictionary mit den Schlüsseln \"text\" und \"label\"\n",
    "data = [{\"text\": text, \"label\": label} for text, label in data]\n",
    "\n",
    "# konvertiere bullish zu 0, neutral zu 1 und bearish zu 2\n",
    "data = [{\"text\": row[\"text\"], \"label\": 0 if row[\"label\"] == \"bullish\" else 1 if row[\"label\"] == \"neutral\" else 2} for row in data]\n",
    "\n",
    "# Teile die Daten in Trainings-, Test- und Validierungssets auf\n",
    "train_data, test_data = train_test_split(data, test_size=0.15, random_state=42)\n",
    "train_data, val_data = train_test_split(train_data, test_size=0.15, random_state=42)\n",
    "\n",
    "# Gib die Größen der Trainings-, Test- und Validierungssets aus\n",
    "print(\"Train data percentage:\", (round((len(train_data) / len(data)) * 100)))\n",
    "print(\"Test data percentage:\", (round((len(test_data) / len(data)) * 100)))\n",
    "print(\"Validation data percentage:\", (round((len(val_data) / len(data)) * 100)))"
   ]
  },
  {
   "cell_type": "markdown",
   "metadata": {},
   "source": [
    "Tokenisierung"
   ]
  },
  {
   "cell_type": "code",
   "execution_count": 3,
   "metadata": {},
   "outputs": [],
   "source": [
    "from transformers import AutoTokenizer\n",
    "import torch\n",
    "\n",
    "# Funktion, um die Daten zu tokenisieren\n",
    "def tokenize_data(data):\n",
    "    tokenized_data = []\n",
    "    for item in data:\n",
    "        # Tokenisiere den Text und füge das Ergebnis dem Array hinzu\n",
    "        encoding = tokenizer(\n",
    "            item['text'],\n",
    "            padding='max_length',  # Pad kürzere Sätze\n",
    "            truncation=True,       # Schneide längere Sätze ab\n",
    "            max_length=512,        # Maximale Länge auf BERT's limit setzen\n",
    "            return_tensors='pt'    # Rückgabe als PyTorch Tensoren\n",
    "        )\n",
    "        tokenized_data.append({'input_ids': encoding['input_ids'].squeeze(0), 'attention_mask': encoding['attention_mask'].squeeze(0), 'label': item['label']})\n",
    "    return tokenized_data\n",
    "\n",
    "# Tokenisiere Trainings-, Test- und Validierungsdaten\n",
    "train_data_tokenized = tokenize_data(train_data)\n",
    "val_data_tokenized = tokenize_data(val_data)\n",
    "test_data_tokenized = tokenize_data(test_data)"
   ]
  },
  {
   "cell_type": "markdown",
   "metadata": {},
   "source": [
    "Erstellen von DataLoadern"
   ]
  },
  {
   "cell_type": "code",
   "execution_count": 4,
   "metadata": {},
   "outputs": [],
   "source": [
    "from torch.utils.data import Dataset\n",
    "\n",
    "# Erstelle eine benutzerdefinierte Dataset-Klasse\n",
    "class SentimentDataset(Dataset):\n",
    "    def __init__(self, tokenized_data): # Konstruktor\n",
    "        self.tokenized_data = tokenized_data\n",
    "\n",
    "    def __len__(self): # Anzahl der Daten\n",
    "        return len(self.tokenized_data)\n",
    "\n",
    "    def __getitem__(self, idx): # Gibt einen Datenpunkt zurück\n",
    "        return self.tokenized_data[idx]\n",
    "\n",
    "train_dataset = SentimentDataset(train_data_tokenized)\n",
    "val_dataset = SentimentDataset(val_data_tokenized)\n",
    "test_dataset = SentimentDataset(test_data_tokenized)"
   ]
  },
  {
   "cell_type": "code",
   "execution_count": 5,
   "metadata": {},
   "outputs": [],
   "source": [
    "from torch.utils.data import DataLoader\n",
    "\n",
    "batch_size = 16\n",
    "\n",
    "# Erstelle DataLoaders\n",
    "train_loader = DataLoader(train_dataset, batch_size=batch_size, shuffle=True)\n",
    "val_loader = DataLoader(val_dataset, batch_size=batch_size, shuffle=False)\n",
    "test_loader = DataLoader(test_dataset, batch_size=batch_size, shuffle=False)"
   ]
  },
  {
   "cell_type": "markdown",
   "metadata": {},
   "source": [
    "Errechnen der Metriken"
   ]
  },
  {
   "cell_type": "code",
   "execution_count": 10,
   "metadata": {},
   "outputs": [
    {
     "name": "stdout",
     "output_type": "stream",
     "text": [
      "Test Loss:  0.27967330950183517\n",
      "Accuracy: {'accuracy': 0.9153129161118508}\n",
      "F1-Score: {'f1': 0.9157232231476383}\n",
      "F1-Scikit: 0.9157232231476383\n",
      "Precision: {'precision': 0.9174974844709703}\n",
      "Recall: {'recall': 0.9153129161118508}\n"
     ]
    }
   ],
   "source": [
    "import evaluate\n",
    "from sklearn.metrics import f1_score\n",
    "\n",
    "# Überprüfen, ob CUDA verfügbar ist und eine GPU zuweisen\n",
    "device = torch.device(\"cuda\" if torch.cuda.is_available() else \"cpu\")\n",
    "model.to(device)  # Modell auf die GPU verschieben\n",
    "\n",
    "model.eval()  # Schalte das Modell in den Evaluierungsmodus\n",
    "\n",
    "total_eval_accuracy = 0\n",
    "total_eval_loss = 0\n",
    "\n",
    "# Lade die Metriken\n",
    "accuracy_metric = evaluate.load(\"accuracy\")\n",
    "f1_metric = evaluate.load(\"f1\")\n",
    "precision_metric = evaluate.load(\"precision\")\n",
    "recall_metric = evaluate.load(\"recall\")\n",
    "\n",
    " # Listen für wahre Labels und Vorhersagen\n",
    "true_labels = []\n",
    "preds = []\n",
    "\n",
    "for batch in test_loader:  # Verwende den Test-DataLoader\n",
    "    # Übertrage die Batch-Daten auf das richtige Device (z.B. GPU)\n",
    "    input_ids = batch['input_ids'].to(device)\n",
    "    attention_mask = batch['attention_mask'].to(device)\n",
    "    labels = batch['label'].to(device)\n",
    "\n",
    "    with torch.no_grad():  # Deaktiviere die Gradientenberechnung für die Evaluation\n",
    "        outputs = model(input_ids, attention_mask=attention_mask, labels=labels)\n",
    "\n",
    "    # Konvertiere die Ausgaben des Modells in Vorhersagen\n",
    "    logits = outputs.logits if hasattr(outputs, \"logits\") else outputs[0]\n",
    "    predictions = torch.argmax(logits, dim=-1)\n",
    "\n",
    "    # Sammle wahre Labels und Vorhersagen für Metrikberechnung\n",
    "    preds.extend(predictions.cpu().numpy())\n",
    "    true_labels.extend(labels.cpu().numpy())\n",
    "\n",
    "    # Aktualisiere die Metriken mit den Vorhersagen und den wahren Labels\n",
    "    accuracy_metric.add_batch(predictions=predictions, references=labels)\n",
    "    f1_metric.add_batch(predictions=predictions, references=labels)\n",
    "    precision_metric.add_batch(predictions=predictions, references=labels)\n",
    "    recall_metric.add_batch(predictions=predictions, references=labels)\n",
    "    \n",
    "    # Berechne den Verlust und akkumuliere den Gesamtverlust.\n",
    "    loss = outputs.loss\n",
    "    total_eval_loss += loss.item()\n",
    "\n",
    "f1 = f1_score(true_labels, preds, average='weighted')\n",
    "\n",
    "# Berechne die durchschnittliche Verlust über alle Testbatches\n",
    "avg_test_loss = total_eval_loss / len(test_loader)\n",
    "print(\"Test Loss: \", avg_test_loss)\n",
    "\n",
    "# Berechne die finale Metrik\n",
    "final_accuracy = accuracy_metric.compute()\n",
    "final_f1 = f1_metric.compute(average=\"weighted\")  # oder andere Durchschnittswerte je nach Bedarf\n",
    "final_precision = precision_metric.compute(average=\"weighted\")\n",
    "final_recall = recall_metric.compute(average=\"weighted\")\n",
    "\n",
    "print(\"Accuracy:\", final_accuracy)\n",
    "print(\"F1-Score:\", final_f1)\n",
    "print(\"F1-Scikit:\", f1)\n",
    "print(\"Precision:\", final_precision)\n",
    "print(\"Recall:\", final_recall)"
   ]
  },
  {
   "cell_type": "markdown",
   "metadata": {},
   "source": [
    "Errechnen der Konfusionsmatrix"
   ]
  },
  {
   "cell_type": "code",
   "execution_count": 6,
   "metadata": {},
   "outputs": [],
   "source": [
    "from sklearn.metrics import confusion_matrix\n",
    "import numpy as np\n",
    "\n",
    "true_labels_list = []\n",
    "predictions_list = []\n",
    "\n",
    "for batch in test_loader:\n",
    "    inputs, attention_mask, labels = batch['input_ids'], batch['attention_mask'], batch['label']\n",
    "    inputs, attention_mask, labels = inputs.to(device), attention_mask.to(device), labels.to(device)\n",
    "\n",
    "    with torch.no_grad():\n",
    "        outputs = model(inputs, attention_mask=attention_mask, labels=labels)\n",
    "        # Hier bekommen wir die Logits (die Rohausgabe des Modells vor der Anwendung der Aktivierungsfunktion).\n",
    "        logits = outputs.logits  # oder outputs[0], abhängig vom Modell\n",
    "\n",
    "        # Bestimme die Klasse mit der höchsten Score für jede Eingabe im Batch\n",
    "        _, predictions = torch.max(logits, dim=1)\n",
    "\n",
    "    # Sammle die wahren Labels und die Vorhersagen\n",
    "    true_labels_list.extend(labels.cpu().numpy())\n",
    "    predictions_list.extend(predictions.cpu().numpy())\n",
    "\n",
    "# Nachdem alle Vorhersagen gesammelt sind, konvertiere Listen in Arrays\n",
    "true_labels = np.array(true_labels_list)\n",
    "predictions = np.array(predictions_list)\n"
   ]
  },
  {
   "cell_type": "code",
   "execution_count": 9,
   "metadata": {},
   "outputs": [
    {
     "data": {
      "image/png": "[encoded data removed]",
      "text/plain": [
       "<Figure size 1000x700 with 2 Axes>"
      ]
     },
     "metadata": {},
     "output_type": "display_data"
    }
   ],
   "source": [
    "import matplotlib.pyplot as plt\n",
    "import seaborn as sns\n",
    "import numpy as np\n",
    "\n",
    "# Berechne die Konfusionsmatrix\n",
    "cm = confusion_matrix(true_labels, predictions)\n",
    "\n",
    "# Umdrehen der Matrix, so dass die Klasse 0 unten links ist\n",
    "cm_flipped = np.flipud(cm)\n",
    "\n",
    "# Visualisiere die umgedrehte Konfusionsmatrix\n",
    "plt.figure(figsize=(10, 7))\n",
    "sns.heatmap(cm_flipped, annot=True, fmt=\"d\", cmap='Blues')\n",
    "plt.title(\"Konfusionsmatrix\")\n",
    "plt.xlabel('Vorhergesagtes Label')\n",
    "plt.ylabel('Tatsächlichliches Label')\n",
    "\n",
    "# Korrigiere die y-Achsen-Beschriftungen\n",
    "# plt.yticks() nimmt zwei Argumente: Die Positionen und die Labels der Ticks\n",
    "# Wir stellen die Positionen so ein, dass sie auf die Mitte der Kästen zeigen\n",
    "plt.yticks(np.arange(0.5, len(cm)), labels=np.arange(len(cm))[::-1])\n",
    "\n",
    "plt.show()"
   ]
  },
  {
   "cell_type": "markdown",
   "metadata": {},
   "source": [
    "Classification Report"
   ]
  },
  {
   "cell_type": "code",
   "execution_count": null,
   "metadata": {},
   "outputs": [],
   "source": [
    "from sklearn.metrics import classification_report\n",
    "\n",
    "# true_labels: Die tatächlichen Labels aus dem Testset\n",
    "# predictions: Vorhersagen des Modells\n",
    "\n",
    "report = classification_report(true_labels, predictions, target_names=['bullish', 'neutral', 'bearish'])\n",
    "print(report)\n"
   ]
  }
 ],
 "metadata": {
  "kernelspec": {
   "display_name": "Python 3",
   "language": "python",
   "name": "python3"
  },
  "language_info": {
   "codemirror_mode": {
    "name": "ipython",
    "version": 3
   },
   "file_extension": ".py",
   "mimetype": "text/x-python",
   "name": "python",
   "nbconvert_exporter": "python",
   "pygments_lexer": "ipython3",
   "version": "3.9.0"
  }
 },
 "nbformat": 4,
 "nbformat_minor": 2
}
